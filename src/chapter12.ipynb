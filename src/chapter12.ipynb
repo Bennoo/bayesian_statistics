{
 "cells": [
  {
   "cell_type": "code",
   "execution_count": 7,
   "metadata": {},
   "outputs": [],
   "source": [
    "import math\n",
    "import numpy as np\n",
    "from scipy.stats import norm, beta\n",
    "import matplotlib.pyplot as plt\n",
    "import seaborn as sns\n",
    "%matplotlib inline\n",
    "\n",
    "# this will make plots a little bit prettier\n",
    "sns.set(style='darkgrid')\n",
    "sns.set_context('talk')"
   ]
  },
  {
   "cell_type": "markdown",
   "metadata": {},
   "source": [
    "3. Suppose in Chapter 11 we tried to measure the depth of a well by timing coin drops and got the following values: 2.5, 3, 3.5, 4, 2\n",
    "The distance an object falls can be calculated (in meters) with the following formula: distance = 1/2 × G × 𝐭𝐢𝐦𝐞𝟐 where G is 9.8 m/s/s. What is the probability that the well is over 500 meters deep?\n"
   ]
  },
  {
   "cell_type": "code",
   "execution_count": 3,
   "metadata": {},
   "outputs": [],
   "source": [
    "# setting up function that will calculate distance based on time\n",
    "def calc_distance(time, G=9.8):\n",
    "    distance = 0.5 * G * time**2\n",
    "    return distance"
   ]
  },
  {
   "cell_type": "code",
   "execution_count": 10,
   "metadata": {},
   "outputs": [
    {
     "data": {
      "text/plain": [
       "array([[30.625, 44.1  , 60.025, 78.4  , 19.6  ]])"
      ]
     },
     "execution_count": 10,
     "metadata": {},
     "output_type": "execute_result"
    }
   ],
   "source": [
    "\n",
    "values = np.array([2.5, 3, 3.5, 4, 2])\n",
    "distances = []\n",
    "for val in values:\n",
    "    d = calc_distance(val)\n",
    "    distances.append(d)\n",
    "distances = np.array([distances])\n",
    "distances"
   ]
  },
  {
   "cell_type": "code",
   "execution_count": 9,
   "metadata": {},
   "outputs": [
    {
     "data": {
      "text/plain": [
       "0.0"
      ]
     },
     "execution_count": 9,
     "metadata": {},
     "output_type": "execute_result"
    }
   ],
   "source": [
    "# manually checking what time do we need for 500 meters deep well using previous function\n",
    "# normal distribution should not be used for probabilities, use BETA in place!!\n",
    "x = calc_distance(10.10161)\n",
    "x = [10.10161, 200]\n",
    "mu = values.mean()\n",
    "sigma = values.std()\n",
    "result = norm.cdf(x, loc=mu, scale=sigma)[1] - norm.cdf(x, loc=mu, scale=sigma)[0]\n",
    "result"
   ]
  }
 ],
 "metadata": {
  "kernelspec": {
   "display_name": "Python 3.10.0rc2 64-bit",
   "language": "python",
   "name": "python3"
  },
  "language_info": {
   "codemirror_mode": {
    "name": "ipython",
    "version": 3
   },
   "file_extension": ".py",
   "mimetype": "text/x-python",
   "name": "python",
   "nbconvert_exporter": "python",
   "pygments_lexer": "ipython3",
   "version": "3.10.0rc2"
  },
  "orig_nbformat": 4,
  "vscode": {
   "interpreter": {
    "hash": "949777d72b0d2535278d3dc13498b2535136f6dfe0678499012e853ee9abcab1"
   }
  }
 },
 "nbformat": 4,
 "nbformat_minor": 2
}
